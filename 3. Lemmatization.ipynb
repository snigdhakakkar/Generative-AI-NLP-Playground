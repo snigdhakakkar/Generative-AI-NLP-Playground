{
 "cells": [
  {
   "cell_type": "markdown",
   "id": "6d2a5d5f",
   "metadata": {},
   "source": [
    "### Lemmatization\n",
    "\n",
    "We will be using WordNet Lemmatizer which is actually a thin wrapper around the wordnet corpus. This class uses morphy() function to the WordNet CorpusReader class to find a lemma\n",
    "\n",
    "Use cases: Text summarization, Question and Answering, Chatbot Assistants"
   ]
  },
  {
   "cell_type": "code",
   "execution_count": 4,
   "id": "6070c654",
   "metadata": {},
   "outputs": [
    {
     "name": "stderr",
     "output_type": "stream",
     "text": [
      "[nltk_data] Downloading package wordnet to\n",
      "[nltk_data]     /Users/snigdhakakkar/nltk_data...\n"
     ]
    },
    {
     "data": {
      "text/plain": [
       "True"
      ]
     },
     "execution_count": 4,
     "metadata": {},
     "output_type": "execute_result"
    }
   ],
   "source": [
    "import nltk\n",
    "nltk.download('wordnet')"
   ]
  },
  {
   "cell_type": "code",
   "execution_count": 5,
   "id": "ca8b1325",
   "metadata": {},
   "outputs": [],
   "source": [
    "from nltk.stem import WordNetLemmatizer"
   ]
  },
  {
   "cell_type": "code",
   "execution_count": 6,
   "id": "a86709cd",
   "metadata": {},
   "outputs": [],
   "source": [
    "lemmatizer = WordNetLemmatizer()"
   ]
  },
  {
   "cell_type": "code",
   "execution_count": 8,
   "id": "b515eca0",
   "metadata": {},
   "outputs": [
    {
     "data": {
      "text/plain": [
       "'eating'"
      ]
     },
     "execution_count": 8,
     "metadata": {},
     "output_type": "execute_result"
    }
   ],
   "source": [
    "lemmatizer.lemmatize(\"eating\")"
   ]
  },
  {
   "cell_type": "markdown",
   "id": "8e4f14d6",
   "metadata": {},
   "source": [
    "Here, you can see that it is trying to find the root word for eating ; in lemmatizer.lemmatize(word) we pass two parameters: actual word and pos tag. By default pos tag is n which means the word is the noun. For verb it is v, adjective it is a and adverb it is r"
   ]
  },
  {
   "cell_type": "code",
   "execution_count": 9,
   "id": "cd27e3ea",
   "metadata": {},
   "outputs": [
    {
     "data": {
      "text/plain": [
       "'eat'"
      ]
     },
     "execution_count": 9,
     "metadata": {},
     "output_type": "execute_result"
    }
   ],
   "source": [
    "lemmatizer.lemmatize(\"eating\", pos = 'v')"
   ]
  },
  {
   "cell_type": "code",
   "execution_count": 10,
   "id": "dc8cc82c",
   "metadata": {},
   "outputs": [
    {
     "data": {
      "text/plain": [
       "'intelligence'"
      ]
     },
     "execution_count": 10,
     "metadata": {},
     "output_type": "execute_result"
    }
   ],
   "source": [
    "lemmatizer.lemmatize(\"intelligence\", pos = 'a')"
   ]
  },
  {
   "cell_type": "code",
   "execution_count": 11,
   "id": "c2624458",
   "metadata": {},
   "outputs": [],
   "source": [
    "#Example for Lemmatization\n",
    "\n",
    "words = [\"drawing\", \"draws\", \"drew\", \"codes\", \"coded\", \"coding\", \"writing\", \"writes\", \"wrote\", \"written\", \"using\", \"uses\", \"used\", \"use\", \"history\", \"geography\", \"finality\", \"finally\", \"finalized\", \"gratitude\", \"graduation\", \"congratulations\", \"congratulate\"]"
   ]
  },
  {
   "cell_type": "code",
   "execution_count": 12,
   "id": "7ab3066a",
   "metadata": {},
   "outputs": [
    {
     "name": "stdout",
     "output_type": "stream",
     "text": [
      "['drawing', 'draws', 'drew', 'codes', 'coded', 'coding', 'writing', 'writes', 'wrote', 'written', 'using', 'uses', 'used', 'use', 'history', 'geography', 'finality', 'finally', 'finalized', 'gratitude', 'graduation', 'congratulations', 'congratulate']\n"
     ]
    }
   ],
   "source": [
    "print(words)"
   ]
  },
  {
   "cell_type": "code",
   "execution_count": 13,
   "id": "f4edbf8a",
   "metadata": {},
   "outputs": [
    {
     "name": "stdout",
     "output_type": "stream",
     "text": [
      "drawing : drawing\n",
      "draws : draw\n",
      "drew : drew\n",
      "codes : code\n",
      "coded : coded\n",
      "coding : coding\n",
      "writing : writing\n",
      "writes : writes\n",
      "wrote : wrote\n",
      "written : written\n",
      "using : using\n",
      "uses : us\n",
      "used : used\n",
      "use : use\n",
      "history : history\n",
      "geography : geography\n",
      "finality : finality\n",
      "finally : finally\n",
      "finalized : finalized\n",
      "gratitude : gratitude\n",
      "graduation : graduation\n",
      "congratulations : congratulation\n",
      "congratulate : congratulate\n"
     ]
    }
   ],
   "source": [
    "for word in words:\n",
    "    print(word + \" : \" + lemmatizer.lemmatize(word, pos = 'n'))"
   ]
  },
  {
   "cell_type": "code",
   "execution_count": 14,
   "id": "966c3979",
   "metadata": {},
   "outputs": [
    {
     "name": "stdout",
     "output_type": "stream",
     "text": [
      "drawing : drawing\n",
      "draws : draws\n",
      "drew : drew\n",
      "codes : codes\n",
      "coded : coded\n",
      "coding : coding\n",
      "writing : writing\n",
      "writes : writes\n",
      "wrote : wrote\n",
      "written : written\n",
      "using : using\n",
      "uses : uses\n",
      "used : used\n",
      "use : use\n",
      "history : history\n",
      "geography : geography\n",
      "finality : finality\n",
      "finally : finally\n",
      "finalized : finalized\n",
      "gratitude : gratitude\n",
      "graduation : graduation\n",
      "congratulations : congratulations\n",
      "congratulate : congratulate\n"
     ]
    }
   ],
   "source": [
    "for word in words:\n",
    "    print(word + \" : \" + lemmatizer.lemmatize(word, pos = 'a'))"
   ]
  },
  {
   "cell_type": "code",
   "execution_count": 15,
   "id": "dcb618a3",
   "metadata": {},
   "outputs": [
    {
     "name": "stdout",
     "output_type": "stream",
     "text": [
      "drawing : draw\n",
      "draws : draw\n",
      "drew : draw\n",
      "codes : cod\n",
      "coded : cod\n",
      "coding : cod\n",
      "writing : write\n",
      "writes : write\n",
      "wrote : write\n",
      "written : write\n",
      "using : use\n",
      "uses : use\n",
      "used : use\n",
      "use : use\n",
      "history : history\n",
      "geography : geography\n",
      "finality : finality\n",
      "finally : finally\n",
      "finalized : finalize\n",
      "gratitude : gratitude\n",
      "graduation : graduation\n",
      "congratulations : congratulations\n",
      "congratulate : congratulate\n"
     ]
    }
   ],
   "source": [
    "for word in words:\n",
    "    print(word + \" : \" + lemmatizer.lemmatize(word, pos = 'v'))"
   ]
  },
  {
   "cell_type": "code",
   "execution_count": 16,
   "id": "2af79911",
   "metadata": {},
   "outputs": [
    {
     "data": {
      "text/plain": [
       "'do'"
      ]
     },
     "execution_count": 16,
     "metadata": {},
     "output_type": "execute_result"
    }
   ],
   "source": [
    "lemmatizer.lemmatize(\"does\", pos = 'v')"
   ]
  },
  {
   "cell_type": "code",
   "execution_count": 17,
   "id": "c0dcf895",
   "metadata": {},
   "outputs": [
    {
     "data": {
      "text/plain": [
       "'fairly'"
      ]
     },
     "execution_count": 17,
     "metadata": {},
     "output_type": "execute_result"
    }
   ],
   "source": [
    "lemmatizer.lemmatize(\"fairly\", pos = 'v')"
   ]
  },
  {
   "cell_type": "code",
   "execution_count": 18,
   "id": "77550564",
   "metadata": {},
   "outputs": [
    {
     "data": {
      "text/plain": [
       "'knowingly'"
      ]
     },
     "execution_count": 18,
     "metadata": {},
     "output_type": "execute_result"
    }
   ],
   "source": [
    "lemmatizer.lemmatize(\"knowingly\", pos = 'v')"
   ]
  },
  {
   "cell_type": "markdown",
   "id": "13b48995",
   "metadata": {},
   "source": [
    "### Which will take more time?? WordNetLemmatizer or Stemming? -- Provide Answer in the Comments"
   ]
  }
 ],
 "metadata": {
  "kernelspec": {
   "display_name": "Python 3 (ipykernel)",
   "language": "python",
   "name": "python3"
  },
  "language_info": {
   "codemirror_mode": {
    "name": "ipython",
    "version": 3
   },
   "file_extension": ".py",
   "mimetype": "text/x-python",
   "name": "python",
   "nbconvert_exporter": "python",
   "pygments_lexer": "ipython3",
   "version": "3.10.6"
  }
 },
 "nbformat": 4,
 "nbformat_minor": 5
}
