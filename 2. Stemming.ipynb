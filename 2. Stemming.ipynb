{
 "cells": [
  {
   "cell_type": "markdown",
   "id": "2f2835e7",
   "metadata": {},
   "source": [
    "### Stemming"
   ]
  },
  {
   "cell_type": "code",
   "execution_count": 14,
   "id": "fa1e73aa",
   "metadata": {},
   "outputs": [],
   "source": [
    "#Example for Stemming\n",
    "\n",
    "words = [\"drawing\", \"draws\", \"drew\", \"codes\", \"coded\", \"coding\", \"writing\", \"writes\", \"wrote\", \"written\", \"using\", \"uses\", \"used\", \"use\", \"history\", \"geography\", \"finality\", \"finally\", \"finalized\", \"gratitude\", \"graduation\", \"congratulations\", \"congratulate\"]"
   ]
  },
  {
   "cell_type": "code",
   "execution_count": 15,
   "id": "f82eee25",
   "metadata": {},
   "outputs": [
    {
     "name": "stdout",
     "output_type": "stream",
     "text": [
      "['drawing', 'draws', 'drew', 'codes', 'coded', 'coding', 'writing', 'writes', 'wrote', 'written', 'using', 'uses', 'used', 'use', 'history', 'geography', 'finality', 'finally', 'finalized', 'gratitude', 'graduation', 'congratulations', 'congratulate']\n"
     ]
    }
   ],
   "source": [
    "print(words)"
   ]
  },
  {
   "cell_type": "markdown",
   "id": "c9816512",
   "metadata": {},
   "source": [
    "#### PorterStemmer"
   ]
  },
  {
   "cell_type": "code",
   "execution_count": 16,
   "id": "e3d5c22d",
   "metadata": {},
   "outputs": [],
   "source": [
    "from nltk.stem import PorterStemmer"
   ]
  },
  {
   "cell_type": "code",
   "execution_count": 17,
   "id": "cf938634",
   "metadata": {},
   "outputs": [],
   "source": [
    "stemming = PorterStemmer()"
   ]
  },
  {
   "cell_type": "code",
   "execution_count": 18,
   "id": "f14c402e",
   "metadata": {},
   "outputs": [
    {
     "name": "stdout",
     "output_type": "stream",
     "text": [
      "drawing : draw\n",
      "draws : draw\n",
      "drew : drew\n",
      "codes : code\n",
      "coded : code\n",
      "coding : code\n",
      "writing : write\n",
      "writes : write\n",
      "wrote : wrote\n",
      "written : written\n",
      "using : use\n",
      "uses : use\n",
      "used : use\n",
      "use : use\n",
      "history : histori\n",
      "geography : geographi\n",
      "finality : final\n",
      "finally : final\n",
      "finalized : final\n",
      "gratitude : gratitud\n",
      "graduation : graduat\n",
      "congratulations : congratul\n",
      "congratulate : congratul\n"
     ]
    }
   ],
   "source": [
    "for word in words:\n",
    "    print(word+\" : \"+stemming.stem(word))"
   ]
  },
  {
   "cell_type": "markdown",
   "id": "aa410a64",
   "metadata": {},
   "source": [
    "#### RegexpStemmer "
   ]
  },
  {
   "cell_type": "code",
   "execution_count": 19,
   "id": "9aea835f",
   "metadata": {},
   "outputs": [],
   "source": [
    "##To apply Regular expressions stemmer algorithm"
   ]
  },
  {
   "cell_type": "code",
   "execution_count": 20,
   "id": "5204995a",
   "metadata": {},
   "outputs": [],
   "source": [
    "from nltk.stem import RegexpStemmer"
   ]
  },
  {
   "cell_type": "code",
   "execution_count": 21,
   "id": "d24099ec",
   "metadata": {},
   "outputs": [],
   "source": [
    "reg_stemming = RegexpStemmer('ing$|s$|e$|able$', min=4)"
   ]
  },
  {
   "cell_type": "code",
   "execution_count": 24,
   "id": "293aa3f6",
   "metadata": {},
   "outputs": [
    {
     "data": {
      "text/plain": [
       "'cod'"
      ]
     },
     "execution_count": 24,
     "metadata": {},
     "output_type": "execute_result"
    }
   ],
   "source": [
    "reg_stemming.stem('coding')"
   ]
  },
  {
   "cell_type": "code",
   "execution_count": 25,
   "id": "00d6f8bb",
   "metadata": {},
   "outputs": [
    {
     "data": {
      "text/plain": [
       "'read'"
      ]
     },
     "execution_count": 25,
     "metadata": {},
     "output_type": "execute_result"
    }
   ],
   "source": [
    "reg_stemming.stem('reading')"
   ]
  },
  {
   "cell_type": "code",
   "execution_count": 26,
   "id": "7eb4e869",
   "metadata": {},
   "outputs": [
    {
     "name": "stdout",
     "output_type": "stream",
     "text": [
      "drawing : draw\n",
      "draws : draw\n",
      "drew : drew\n",
      "codes : code\n",
      "coded : coded\n",
      "coding : cod\n",
      "writing : writ\n",
      "writes : write\n",
      "wrote : wrot\n",
      "written : written\n",
      "using : us\n",
      "uses : use\n",
      "used : used\n",
      "use : use\n",
      "history : history\n",
      "geography : geography\n",
      "finality : finality\n",
      "finally : finally\n",
      "finalized : finalized\n",
      "gratitude : gratitud\n",
      "graduation : graduation\n",
      "congratulations : congratulation\n",
      "congratulate : congratulat\n"
     ]
    }
   ],
   "source": [
    "for word in words:\n",
    "    print(word+\" : \"+reg_stemming.stem(word))"
   ]
  },
  {
   "cell_type": "markdown",
   "id": "f4c95bc3",
   "metadata": {},
   "source": [
    "#### SnowballStemmer"
   ]
  },
  {
   "cell_type": "code",
   "execution_count": 27,
   "id": "c9e42634",
   "metadata": {},
   "outputs": [],
   "source": [
    "#Better than PorterStemmer"
   ]
  },
  {
   "cell_type": "code",
   "execution_count": 28,
   "id": "12b350d7",
   "metadata": {},
   "outputs": [],
   "source": [
    "from nltk.stem import SnowballStemmer"
   ]
  },
  {
   "cell_type": "code",
   "execution_count": 29,
   "id": "39e29c69",
   "metadata": {},
   "outputs": [],
   "source": [
    "snowball_stemming = SnowballStemmer('english')"
   ]
  },
  {
   "cell_type": "code",
   "execution_count": 30,
   "id": "94a79071",
   "metadata": {},
   "outputs": [
    {
     "name": "stdout",
     "output_type": "stream",
     "text": [
      "drawing : draw\n",
      "draws : draw\n",
      "drew : drew\n",
      "codes : code\n",
      "coded : code\n",
      "coding : code\n",
      "writing : write\n",
      "writes : write\n",
      "wrote : wrote\n",
      "written : written\n",
      "using : use\n",
      "uses : use\n",
      "used : use\n",
      "use : use\n",
      "history : histori\n",
      "geography : geographi\n",
      "finality : final\n",
      "finally : final\n",
      "finalized : final\n",
      "gratitude : gratitud\n",
      "graduation : graduat\n",
      "congratulations : congratul\n",
      "congratulate : congratul\n"
     ]
    }
   ],
   "source": [
    "for word in words:\n",
    "    print(word+\" : \"+snowball_stemming.stem(word))"
   ]
  },
  {
   "cell_type": "code",
   "execution_count": 32,
   "id": "25965d93",
   "metadata": {},
   "outputs": [
    {
     "data": {
      "text/plain": [
       "('knowingli', 'know')"
      ]
     },
     "execution_count": 32,
     "metadata": {},
     "output_type": "execute_result"
    }
   ],
   "source": [
    "## Comparing PorterStemmer and SnowballStemmer\n",
    "stemming.stem(\"knowingly\"), snowball_stemming.stem(\"knowingly\")"
   ]
  },
  {
   "cell_type": "code",
   "execution_count": 36,
   "id": "bd3a9df6",
   "metadata": {},
   "outputs": [
    {
     "data": {
      "text/plain": [
       "('fairli', 'fair')"
      ]
     },
     "execution_count": 36,
     "metadata": {},
     "output_type": "execute_result"
    }
   ],
   "source": [
    "stemming.stem(\"fairly\"), snowball_stemming.stem(\"fairly\")"
   ]
  },
  {
   "cell_type": "code",
   "execution_count": 39,
   "id": "d50f6dae",
   "metadata": {},
   "outputs": [
    {
     "data": {
      "text/plain": [
       "('doe', 'doe')"
      ]
     },
     "execution_count": 39,
     "metadata": {},
     "output_type": "execute_result"
    }
   ],
   "source": [
    "stemming.stem(\"does\"), snowball_stemming.stem(\"does\")"
   ]
  },
  {
   "cell_type": "code",
   "execution_count": null,
   "id": "0e676b97",
   "metadata": {},
   "outputs": [],
   "source": []
  }
 ],
 "metadata": {
  "kernelspec": {
   "display_name": "Python 3 (ipykernel)",
   "language": "python",
   "name": "python3"
  },
  "language_info": {
   "codemirror_mode": {
    "name": "ipython",
    "version": 3
   },
   "file_extension": ".py",
   "mimetype": "text/x-python",
   "name": "python",
   "nbconvert_exporter": "python",
   "pygments_lexer": "ipython3",
   "version": "3.10.6"
  }
 },
 "nbformat": 4,
 "nbformat_minor": 5
}
